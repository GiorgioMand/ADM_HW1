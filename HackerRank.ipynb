{
 "cells": [
  {
   "cell_type": "markdown",
   "metadata": {},
   "source": [
    "# Homework 1 - HackerRank\n",
    "### October 13, 2019\n",
    "### Giorgio Maria Mandolini\n",
    "### 1395882"
   ]
  },
  {
   "cell_type": "markdown",
   "metadata": {},
   "source": [
    "### 1. Introduction"
   ]
  },
  {
   "cell_type": "markdown",
   "metadata": {},
   "source": [
    "#### Say \"Hello, World!\" With Python"
   ]
  },
  {
   "cell_type": "code",
   "execution_count": null,
   "metadata": {},
   "outputs": [],
   "source": [
    "if __name__ == '__main__':\n",
    "    print \"Hello, World!\""
   ]
  },
  {
   "cell_type": "markdown",
   "metadata": {},
   "source": [
    "#### Python If-Else"
   ]
  },
  {
   "cell_type": "code",
   "execution_count": null,
   "metadata": {},
   "outputs": [],
   "source": [
    "#!/bin/python\n",
    "\n",
    "import math\n",
    "import os\n",
    "import random\n",
    "import re\n",
    "import sys\n",
    "\n",
    "\n",
    "\n",
    "if __name__ == '__main__':\n",
    "    n = int(raw_input().strip())\n",
    "    if n >= 1 and n <= 100:\n",
    "        if (n % 2) == 0:\n",
    "            if n >= 2 and n <= 5:\n",
    "                print(\"Not Weird\")  \n",
    "            if n >= 6 and n <= 20:\n",
    "                print(\"Weird\")\n",
    "            if n > 20:         \n",
    "                print(\"Not Weird\")  \n",
    "        else:  \n",
    "            print(\"Weird\")"
   ]
  },
  {
   "cell_type": "markdown",
   "metadata": {},
   "source": [
    "#### Arithmetic Operators"
   ]
  },
  {
   "cell_type": "code",
   "execution_count": null,
   "metadata": {},
   "outputs": [],
   "source": [
    "if __name__ == '__main__':\n",
    "\n",
    "    a = int(raw_input()) \n",
    "    b = int(raw_input())       \n",
    "\n",
    "    print(a+b)\n",
    "    print(a-b)\n",
    "    print(a*b)"
   ]
  },
  {
   "cell_type": "markdown",
   "metadata": {},
   "source": [
    "#### Python: Division"
   ]
  },
  {
   "cell_type": "code",
   "execution_count": null,
   "metadata": {},
   "outputs": [],
   "source": [
    "from __future__ import division\n",
    "\n",
    "if __name__ == '__main__':\n",
    "    a = int(raw_input())\n",
    "    b = int(raw_input())\n",
    "\n",
    "    print(a//b)\n",
    "    print(a/b)"
   ]
  },
  {
   "cell_type": "markdown",
   "metadata": {},
   "source": [
    "#### Loops"
   ]
  },
  {
   "cell_type": "code",
   "execution_count": null,
   "metadata": {},
   "outputs": [],
   "source": [
    "if __name__ == '__main__':\n",
    "    n = int(raw_input())\n",
    "    for i in range(n):\n",
    "        print(i**2)"
   ]
  },
  {
   "cell_type": "markdown",
   "metadata": {},
   "source": [
    "#### Write a function"
   ]
  },
  {
   "cell_type": "code",
   "execution_count": null,
   "metadata": {},
   "outputs": [],
   "source": [
    "def is_leap(year):\n",
    "\n",
    "    leap = False\n",
    "\n",
    "    if(year % 400 == 0):\n",
    "        leap = True\n",
    "\n",
    "    elif(year % 4 == 0 and year % 100 != 0):\n",
    "        leap = True\n",
    "\n",
    "    return leap"
   ]
  },
  {
   "cell_type": "markdown",
   "metadata": {},
   "source": [
    "#### Print Function"
   ]
  },
  {
   "cell_type": "code",
   "execution_count": null,
   "metadata": {},
   "outputs": [],
   "source": [
    "from __future__ import print_function\n",
    "\n",
    "if __name__ == '__main__':\n",
    "    n = int(input())\n",
    "    for i in range(n):\n",
    "        print(i+1, end = '')"
   ]
  },
  {
   "cell_type": "markdown",
   "metadata": {},
   "source": [
    "### 2. Basic Data Types"
   ]
  },
  {
   "cell_type": "markdown",
   "metadata": {},
   "source": [
    "#### List Comprehensions"
   ]
  },
  {
   "cell_type": "code",
   "execution_count": null,
   "metadata": {},
   "outputs": [],
   "source": [
    "if __name__ == '__main__':\n",
    "    x = int(raw_input())\n",
    "    y = int(raw_input())\n",
    "    z = int(raw_input())\n",
    "    n = int(raw_input())\n",
    "\n",
    "print[[x,y,z] for x in range(x+1) for y in range(y+1) for z in range(z+1) if (x+y+z) != n]"
   ]
  },
  {
   "cell_type": "markdown",
   "metadata": {},
   "source": [
    "#### Find the Runner-Up Score!"
   ]
  },
  {
   "cell_type": "code",
   "execution_count": null,
   "metadata": {},
   "outputs": [],
   "source": [
    "if __name__ == '__main__':\n",
    "    n = int(raw_input())\n",
    "    arr = map(int, raw_input().split())\n",
    "    arr = set(arr)\n",
    "    ar = len(arr)\n",
    "    arr = sorted(arr)\n",
    "    print(arr[ar-2])"
   ]
  },
  {
   "cell_type": "markdown",
   "metadata": {},
   "source": [
    "#### Nested Lists"
   ]
  },
  {
   "cell_type": "code",
   "execution_count": null,
   "metadata": {},
   "outputs": [],
   "source": [
    "students = []\n",
    "\n",
    "for _ in range(int(raw_input())):\n",
    "    name = raw_input()\n",
    "    score = float(raw_input())\n",
    "    students.append([name,score])\n",
    "\n",
    "students.sort(key = lambda x: (x[1], x[0]))\n",
    "\n",
    "first_min_score = students[0]\n",
    "second_min_score = min(students, key=lambda score: (score[1]==first_min_score[1], score[1]))\n",
    "\n",
    "for student in students:\n",
    "    if student[1] == second_min_score[1]:\n",
    "        print(student[0])"
   ]
  },
  {
   "cell_type": "markdown",
   "metadata": {},
   "source": [
    "#### Finding the percentage"
   ]
  },
  {
   "cell_type": "code",
   "execution_count": null,
   "metadata": {},
   "outputs": [],
   "source": [
    "if __name__ == '__main__':\n",
    "    n = int(input())\n",
    "    student_marks = {}\n",
    "    for _ in range(n):\n",
    "        line = input().split()\n",
    "        name, scores = line[0], line[1:]\n",
    "        scores = map(float, scores)\n",
    "        student_marks[name] = list(scores)\n",
    "    query_name = input()\n",
    "    student = student_marks.get(query_name)\n",
    "    student\n",
    "    avg_score = (student[0] + student[1] + student[2])/3\n",
    "    print(format(avg_score, '.2f')) "
   ]
  },
  {
   "cell_type": "markdown",
   "metadata": {},
   "source": [
    "#### Lists"
   ]
  },
  {
   "cell_type": "code",
   "execution_count": null,
   "metadata": {},
   "outputs": [],
   "source": [
    "#if __name__ == '__main__':\n",
    "    #N = int(raw_input())\n",
    "\n",
    "def commdr(lst, instruct): \n",
    "    if instruct[0] == 'insert':\n",
    "        lst.insert(int(instruct[1]), int(instruct[2]))\n",
    "    elif instruct[0] == 'print':\n",
    "        print(lst)\n",
    "    elif instruct[0] == 'remove':\n",
    "        lst.remove(int(instruct[1]))\n",
    "    elif instruct[0] == 'append':\n",
    "        lst.append(int(instruct[1]))\n",
    "    elif instruct[0] == 'sort':\n",
    "        lst.sort()\n",
    "    elif instruct[0] == 'reverse':\n",
    "        lst.reverse()\n",
    "    elif instruct[0] == 'pop':\n",
    "        lst.pop()\n",
    "    else: \n",
    "        print(\"Command not recognized!\")\n",
    "\n",
    "n = int(raw_input()) \n",
    "lst = []\n",
    "for command in range(0,n):\n",
    "    temp = [str(i) for i in raw_input().strip().split()]\n",
    "    commdr(lst, temp)"
   ]
  },
  {
   "cell_type": "markdown",
   "metadata": {},
   "source": [
    "#### Tuples"
   ]
  },
  {
   "cell_type": "code",
   "execution_count": null,
   "metadata": {},
   "outputs": [],
   "source": [
    "if __name__ == '__main__':\n",
    "    n = int(raw_input())\n",
    "    integer_list = map(int, raw_input().split())\n",
    "\n",
    "    tup = tuple(integer_list)\n",
    "    h = hash(tup)\n",
    "    print(h)"
   ]
  },
  {
   "cell_type": "markdown",
   "metadata": {},
   "source": [
    "### 3. Strings"
   ]
  },
  {
   "cell_type": "markdown",
   "metadata": {},
   "source": [
    "#### sWAP cASE"
   ]
  },
  {
   "cell_type": "code",
   "execution_count": null,
   "metadata": {},
   "outputs": [],
   "source": [
    "def swap_case(s):\n",
    "    newstring = \"\"\n",
    "    for a in s:\n",
    "        if (a.isupper()) == True:\n",
    "            newstring += (a.lower())\n",
    "        elif (a.islower()) == True:\n",
    "            newstring += (a.upper()) \n",
    "        elif (a.isspace()) == True:\n",
    "            newstring += a  \n",
    "        elif (a.isalpha()) == False:\n",
    "            newstring += a                  \n",
    "    return newstring"
   ]
  },
  {
   "cell_type": "markdown",
   "metadata": {},
   "source": [
    "#### String Split and Join"
   ]
  },
  {
   "cell_type": "code",
   "execution_count": null,
   "metadata": {},
   "outputs": [],
   "source": [
    "def split_and_join(line):\n",
    "    line = line.split(\" \")\n",
    "    line = \"-\".join(line)\n",
    "    return line"
   ]
  },
  {
   "cell_type": "markdown",
   "metadata": {},
   "source": [
    "#### What's Your Name?"
   ]
  },
  {
   "cell_type": "code",
   "execution_count": null,
   "metadata": {},
   "outputs": [],
   "source": [
    "def print_full_name(a, b):\n",
    "    print (\"Hello \" + a + \" \" + b + \"! You just delved into python.\")"
   ]
  },
  {
   "cell_type": "markdown",
   "metadata": {},
   "source": [
    "#### Mutations"
   ]
  },
  {
   "cell_type": "code",
   "execution_count": null,
   "metadata": {},
   "outputs": [],
   "source": [
    "def mutate_string(string, position, character):\n",
    "    string = string[:position] + character + string[position+1:]\n",
    "    return string"
   ]
  },
  {
   "cell_type": "markdown",
   "metadata": {},
   "source": [
    "#### Find a string"
   ]
  },
  {
   "cell_type": "code",
   "execution_count": null,
   "metadata": {},
   "outputs": [],
   "source": [
    "import re\n",
    "\n",
    "def count_substring(string, sub_string):\n",
    "    count = len(re.findall('(?=' + sub_string + ')', string))\n",
    "    return count"
   ]
  },
  {
   "cell_type": "markdown",
   "metadata": {},
   "source": [
    "#### String Validators"
   ]
  },
  {
   "cell_type": "code",
   "execution_count": null,
   "metadata": {},
   "outputs": [],
   "source": [
    "if __name__ == '__main__':\n",
    "    \n",
    "    s = input()\n",
    "\n",
    "    print(any(map(str.isalnum, s)))\n",
    "    print(any(map(str.isalpha, s)))\n",
    "    print(any(map(str.isdigit, s)))\n",
    "    print(any(map(str.islower, s)))\n",
    "    print(any(map(str.isupper, s)))"
   ]
  },
  {
   "cell_type": "markdown",
   "metadata": {},
   "source": [
    "#### Text Alignment"
   ]
  },
  {
   "cell_type": "code",
   "execution_count": null,
   "metadata": {},
   "outputs": [],
   "source": [
    "thickness = int(input()) #This must be an odd number\n",
    "c = 'H'\n",
    "\n",
    "for i in range(thickness):\n",
    "    print((c*i).rjust(thickness-1)+c+(c*i).ljust(thickness-1))\n",
    "\n",
    "for i in range(thickness+1):\n",
    "    print((c*thickness).center(thickness*2)+(c*thickness).center(thickness*6))\n",
    "\n",
    "for i in range((thickness+1)//2):\n",
    "    print((c*thickness*5).center(thickness*6))    \n",
    "\n",
    "for i in range(thickness+1):\n",
    "    print((c*thickness).center(thickness*2)+(c*thickness).center(thickness*6))    \n",
    "\n",
    "for i in range(thickness):\n",
    "    print(((c*(thickness-i-1)).rjust(thickness)+c+(c*(thickness-i-1)).ljust(thickness)).rjust(thickness*6))"
   ]
  },
  {
   "cell_type": "markdown",
   "metadata": {},
   "source": [
    "#### Text Wrap"
   ]
  },
  {
   "cell_type": "code",
   "execution_count": null,
   "metadata": {},
   "outputs": [],
   "source": [
    "def wrap(string, max_width):\n",
    "    wrapper = textwrap.TextWrapper(width=max_width)\n",
    "    s = wrapper.fill(text=string)\n",
    "    return s"
   ]
  },
  {
   "cell_type": "markdown",
   "metadata": {},
   "source": [
    "#### Designer Door Mat"
   ]
  },
  {
   "cell_type": "code",
   "execution_count": null,
   "metadata": {},
   "outputs": [],
   "source": [
    "N, M = map(int, input().split())\n",
    "\n",
    "for i in range(N//2):\n",
    "    print(('.|.' * i).rjust((M - 3)//2, '-') + '.|.' + ('.|.' * i).ljust((M - 3)//2, '-'))\n",
    "\n",
    "print('WELCOME'.center(M, '-'))\n",
    "x = N//2 - 1\n",
    "for i in range(N//2):\n",
    "    print(('.|.' * x).rjust((M - 3)//2, '-') + '.|.' + ('.|.' * x).ljust((M - 3)//2, '-'))\n",
    "    x -= 1"
   ]
  },
  {
   "cell_type": "markdown",
   "metadata": {},
   "source": [
    "#### String Formatting"
   ]
  },
  {
   "cell_type": "code",
   "execution_count": null,
   "metadata": {},
   "outputs": [],
   "source": [
    "def print_formatted(number):\n",
    "    width = len(\"{0:b}\".format(n))\n",
    "    for i in range(1,n+1):\n",
    "        print(\"{0:{width}d} {0:{width}o} {0:{width}X} {0:{width}b}\".format(i, width=width))"
   ]
  },
  {
   "cell_type": "markdown",
   "metadata": {},
   "source": [
    "#### Alphabet Rangoli"
   ]
  },
  {
   "cell_type": "code",
   "execution_count": null,
   "metadata": {},
   "outputs": [],
   "source": [
    "import string\n",
    "\n",
    "def print_rangoli(size):\n",
    "    l = []\n",
    "    for i in range(size):\n",
    "        s = string.ascii_lowercase[i:size]\n",
    "        s = \"-\".join(s)\n",
    "        l.append((s[::-1] + s[1:]).center(4*size - 3,\"-\"))\n",
    "    for i in range(1, size):\n",
    "        print(l[-i])\n",
    "    for i in range(0, size):\n",
    "        print(l[i])"
   ]
  },
  {
   "cell_type": "markdown",
   "metadata": {},
   "source": [
    "#### Capitalize!"
   ]
  },
  {
   "cell_type": "code",
   "execution_count": null,
   "metadata": {},
   "outputs": [],
   "source": [
    "def solve(s):\n",
    "    s = s.split(' ')\n",
    "    l = []\n",
    "    for i in range(len(s)):\n",
    "        s[i] = s[i].capitalize()\n",
    "        l.append(s[i])\n",
    "        \n",
    "    s = ' '.join(map(str, l))\n",
    "    return(s)"
   ]
  },
  {
   "cell_type": "markdown",
   "metadata": {},
   "source": [
    "#### The Minion Game"
   ]
  },
  {
   "cell_type": "code",
   "execution_count": null,
   "metadata": {},
   "outputs": [],
   "source": [
    "def minion_game(string):\n",
    "    vowels = [x.upper() for x in [\"a\",\"e\",\"i\",\"o\",\"u\"]]\n",
    "    stuart = 0\n",
    "    kevin = 0\n",
    "    for i in range(len(string)):\n",
    "        if string[i] in vowels:\n",
    "            kevin += len(string) - i\n",
    "        if string[i] not in vowels:\n",
    "            stuart += len(string) - i\n",
    "\n",
    "    if (kevin > stuart):\n",
    "        print('Kevin ' + str(kevin))\n",
    "        \n",
    "    if (kevin < stuart):\n",
    "        print('Stuart ' + str(stuart))\n",
    "\n",
    "    if (kevin == stuart):\n",
    "        print('Draw')"
   ]
  },
  {
   "cell_type": "markdown",
   "metadata": {},
   "source": [
    "#### Merge the Tools!"
   ]
  },
  {
   "cell_type": "code",
   "execution_count": null,
   "metadata": {},
   "outputs": [],
   "source": [
    "def merge_the_tools(string, k):\n",
    "    for i in range(k):\n",
    "        s = string[i*k:(i+1)*k]\n",
    "        s = sorted(set(s), key=s.index)\n",
    "        print(''.join(s))"
   ]
  },
  {
   "cell_type": "markdown",
   "metadata": {},
   "source": [
    "### 4. Sets"
   ]
  },
  {
   "cell_type": "markdown",
   "metadata": {},
   "source": [
    "#### Introduction to Sets"
   ]
  },
  {
   "cell_type": "code",
   "execution_count": null,
   "metadata": {},
   "outputs": [],
   "source": [
    "def average(array):\n",
    "    avg = sum(set(array))/len(set(array))\n",
    "    return(avg)"
   ]
  },
  {
   "cell_type": "markdown",
   "metadata": {},
   "source": [
    "#### No Idea!"
   ]
  },
  {
   "cell_type": "code",
   "execution_count": null,
   "metadata": {},
   "outputs": [],
   "source": [
    "n, m = map(int, input().split())\n",
    "\n",
    "arr = list(map(int, input().split()))\n",
    "\n",
    "A, B = set(map(int, input().split())), set(map(int, input().split()))\n",
    "\n",
    "happiness = 0\n",
    "\n",
    "for elem in arr:\n",
    "    if elem in A:\n",
    "        happiness += 1\n",
    "    else:\n",
    "        happiness = happiness\n",
    "            \n",
    "for elem in arr:\n",
    "    if elem in B:\n",
    "        happiness -= 1\n",
    "    else:\n",
    "        happiness = happiness\n",
    "            \n",
    "print(happiness)"
   ]
  },
  {
   "cell_type": "markdown",
   "metadata": {},
   "source": [
    "#### Symmetric Difference"
   ]
  },
  {
   "cell_type": "code",
   "execution_count": null,
   "metadata": {},
   "outputs": [],
   "source": [
    "m = int(input())\n",
    "M = map(int, input().split())\n",
    "n = int(input())\n",
    "N = map(int, input().split())\n",
    "\n",
    "set_M = set(M)\n",
    "set_N = set(N)\n",
    "\n",
    "diff1 = set_M.difference(set_N)\n",
    "diff2 = set_N.difference(set_M)\n",
    "\n",
    "sorted_diff = sorted(diff1.union(diff2))\n",
    "\n",
    "for _ in sorted_diff:\n",
    "    print(_)"
   ]
  },
  {
   "cell_type": "markdown",
   "metadata": {},
   "source": [
    "#### Set .add()"
   ]
  },
  {
   "cell_type": "code",
   "execution_count": null,
   "metadata": {},
   "outputs": [],
   "source": [
    "N = int(input())\n",
    "countries = set()\n",
    "for i in range(N):\n",
    "    country = str(input().split())\n",
    "    countries.add(country)\n",
    "print(len(countries))"
   ]
  },
  {
   "cell_type": "markdown",
   "metadata": {},
   "source": [
    "#### Set .discard(), .remove() & .pop()"
   ]
  },
  {
   "cell_type": "code",
   "execution_count": null,
   "metadata": {},
   "outputs": [],
   "source": [
    "n = int(input())\n",
    "\n",
    "s = set(map(int, input().split()))\n",
    "\n",
    "N = int(input().strip())\n",
    "\n",
    "for i in range(N):\n",
    "    command = input().split()\n",
    "    if command[0] == \"discard\":\n",
    "        s.discard(int(command[1]))\n",
    "    elif command[0] == \"remove\":\n",
    "        s.remove(int(command[1]))\n",
    "    elif command[0] == \"pop\":\n",
    "        s.pop()\n",
    "    \n",
    "s = sum(s)\n",
    "\n",
    "print(s)"
   ]
  },
  {
   "cell_type": "markdown",
   "metadata": {},
   "source": [
    "#### Set .union() Operation"
   ]
  },
  {
   "cell_type": "code",
   "execution_count": null,
   "metadata": {},
   "outputs": [],
   "source": [
    "n = int(input().strip())\n",
    "n_studs = set(map(int, input().split()))\n",
    "b = int(input().strip())\n",
    "b_studs = set(map(int, input().split()))\n",
    "\n",
    "roll = n_studs.union(b_studs)\n",
    "print(len(roll))"
   ]
  },
  {
   "cell_type": "markdown",
   "metadata": {},
   "source": [
    "#### Set .intersection() Operation"
   ]
  },
  {
   "cell_type": "code",
   "execution_count": null,
   "metadata": {},
   "outputs": [],
   "source": [
    "n = int(input().strip())\n",
    "n_studs = set(map(int, input().split()))\n",
    "b = int(input().strip())\n",
    "b_studs = set(map(int, input().split()))\n",
    "\n",
    "roll = n_studs.intersection(b_studs)\n",
    "print(len(roll))"
   ]
  },
  {
   "cell_type": "markdown",
   "metadata": {},
   "source": [
    "#### Set .difference() Operation"
   ]
  },
  {
   "cell_type": "code",
   "execution_count": null,
   "metadata": {},
   "outputs": [],
   "source": [
    "n = int(input().strip())\n",
    "n_studs = set(map(int, input().split()))\n",
    "b = int(input().strip())\n",
    "b_studs = set(map(int, input().split()))\n",
    "\n",
    "roll = n_studs.difference(b_studs)\n",
    "print(len(roll))"
   ]
  },
  {
   "cell_type": "markdown",
   "metadata": {},
   "source": [
    "#### Set .symmetric_difference() Operation"
   ]
  },
  {
   "cell_type": "code",
   "execution_count": null,
   "metadata": {},
   "outputs": [],
   "source": [
    "n = int(input().strip())\n",
    "n_studs = set(map(int, input().split()))\n",
    "b = int(input().strip())\n",
    "b_studs = set(map(int, input().split()))\n",
    "\n",
    "roll = n_studs.symmetric_difference(b_studs)\n",
    "print(len(roll))"
   ]
  },
  {
   "cell_type": "markdown",
   "metadata": {},
   "source": [
    "#### Set Mutations"
   ]
  },
  {
   "cell_type": "code",
   "execution_count": null,
   "metadata": {},
   "outputs": [],
   "source": [
    "A = int(input())\n",
    "\n",
    "elems_A = set(map(int, input().split()))\n",
    "\n",
    "N = int(input().strip())\n",
    "\n",
    "for i in range(N):\n",
    "    command = input().split()\n",
    "    s = set(map(int, input().split()))\n",
    "    if command[0] == \"update\":\n",
    "        elems_A.update(s)\n",
    "    elif command[0] == \"intersection_update\":\n",
    "        elems_A.intersection_update(s)\n",
    "    elif command[0] == \"symmetric_difference_update\":\n",
    "        elems_A.symmetric_difference_update(s)\n",
    "    elif command[0] == \"difference_update\":\n",
    "        elems_A.difference_update(s)\n",
    "\n",
    "elems_A = sum(elems_A)\n",
    "\n",
    "print(elems_A)"
   ]
  },
  {
   "cell_type": "markdown",
   "metadata": {},
   "source": [
    "#### The Captain's Room"
   ]
  },
  {
   "cell_type": "code",
   "execution_count": null,
   "metadata": {},
   "outputs": [],
   "source": [
    "import collections\n",
    "\n",
    "K, s = int(input()), collections.Counter(input().split())\n",
    "\n",
    "l = [number for number, count in s.items() if count == 1]\n",
    "\n",
    "print(*l, sep = ' ')"
   ]
  },
  {
   "cell_type": "markdown",
   "metadata": {},
   "source": [
    "#### Check Subset"
   ]
  },
  {
   "cell_type": "code",
   "execution_count": null,
   "metadata": {},
   "outputs": [],
   "source": [
    "T = int(input().strip())\n",
    "\n",
    "for i in range(T):\n",
    "    n_A = int(input().strip())\n",
    "    A = set(map(int, input().split()))\n",
    "    n_B = int(input().strip())\n",
    "    B = set(map(int, input().split()))\n",
    "    print(A.issubset(B))"
   ]
  },
  {
   "cell_type": "markdown",
   "metadata": {},
   "source": [
    "#### Check Strict Superset"
   ]
  },
  {
   "cell_type": "code",
   "execution_count": null,
   "metadata": {},
   "outputs": [],
   "source": [
    "A = set(map(int, input().split()))\n",
    "\n",
    "n = int(input())\n",
    "\n",
    "for i in range(n):\n",
    "\n",
    "    sets = set(map(int, input().split()))\n",
    "    \n",
    "    if A.issuperset(sets) != True or len(A) == len(sets): \n",
    "        print('False')\n",
    "        break \n",
    "\n",
    "else: \n",
    "    print('True')"
   ]
  },
  {
   "cell_type": "markdown",
   "metadata": {},
   "source": [
    "### 5. Math"
   ]
  },
  {
   "cell_type": "markdown",
   "metadata": {},
   "source": [
    "#### Polar Coordinates"
   ]
  },
  {
   "cell_type": "code",
   "execution_count": null,
   "metadata": {},
   "outputs": [],
   "source": [
    "import cmath\n",
    "\n",
    "z = complex(str(input()))\n",
    "\n",
    "r = abs(z)\n",
    "phi = cmath.phase(z)\n",
    "\n",
    "print(r)\n",
    "print(phi)"
   ]
  },
  {
   "cell_type": "markdown",
   "metadata": {},
   "source": [
    "#### Mod Divmod"
   ]
  },
  {
   "cell_type": "code",
   "execution_count": null,
   "metadata": {},
   "outputs": [],
   "source": [
    "a = int(input())\n",
    "b = int(input())\n",
    "\n",
    "print(a//b)\n",
    "print(a%b)\n",
    "print(divmod(a, b))"
   ]
  },
  {
   "cell_type": "markdown",
   "metadata": {},
   "source": [
    "#### Power - Mod Power"
   ]
  },
  {
   "cell_type": "code",
   "execution_count": null,
   "metadata": {},
   "outputs": [],
   "source": [
    "a = int(input())\n",
    "b = int(input())\n",
    "m = int(input())\n",
    "\n",
    "print(pow(a, b))\n",
    "print(pow(a, b, m))"
   ]
  },
  {
   "cell_type": "markdown",
   "metadata": {},
   "source": [
    "#### Integers Come In All Sizes"
   ]
  },
  {
   "cell_type": "code",
   "execution_count": null,
   "metadata": {},
   "outputs": [],
   "source": [
    "a = int(input())\n",
    "b = int(input())\n",
    "c = int(input())\n",
    "d = int(input())\n",
    "\n",
    "print(pow(a, b) + pow(c, d))"
   ]
  },
  {
   "cell_type": "markdown",
   "metadata": {},
   "source": [
    "#### Triangle Quest"
   ]
  },
  {
   "cell_type": "code",
   "execution_count": null,
   "metadata": {},
   "outputs": [],
   "source": [
    "for i in range(1, int(input())):\n",
    "    print(int(((10 ** i) / 9) * i))"
   ]
  },
  {
   "cell_type": "markdown",
   "metadata": {},
   "source": [
    "### 6. Itertools"
   ]
  },
  {
   "cell_type": "markdown",
   "metadata": {},
   "source": [
    "#### itertools.product()"
   ]
  },
  {
   "cell_type": "code",
   "execution_count": null,
   "metadata": {},
   "outputs": [],
   "source": [
    "from itertools import product\n",
    "\n",
    "A = list(map(int,input().split()))\n",
    "B = list(map(int,input().split()))\n",
    "\n",
    "prod = product(A,B)\n",
    "\n",
    "for p in prod:\n",
    "    print(p, end = \" \")"
   ]
  },
  {
   "cell_type": "markdown",
   "metadata": {},
   "source": [
    "#### itertools.permutations()"
   ]
  },
  {
   "cell_type": "code",
   "execution_count": null,
   "metadata": {},
   "outputs": [],
   "source": [
    "from itertools import permutations\n",
    "\n",
    "S, k = input().split()\n",
    "\n",
    "perms = sorted(list(permutations(S, int(k))))\n",
    "\n",
    "for p in perms:\n",
    "    print(\"\".join(p))"
   ]
  },
  {
   "cell_type": "markdown",
   "metadata": {},
   "source": [
    "#### itertools.combinations()"
   ]
  },
  {
   "cell_type": "code",
   "execution_count": null,
   "metadata": {},
   "outputs": [],
   "source": [
    "from itertools import combinations\n",
    "\n",
    "S, k = input().split()\n",
    "\n",
    "for i in range(int(k)):\n",
    "    for comb in combinations(sorted(S), int(i+1)):\n",
    "        print(\"\".join(comb))"
   ]
  },
  {
   "cell_type": "markdown",
   "metadata": {},
   "source": [
    "#### itertools.combinations_with_replacement()"
   ]
  },
  {
   "cell_type": "code",
   "execution_count": null,
   "metadata": {},
   "outputs": [],
   "source": [
    "from itertools import combinations_with_replacement\n",
    "\n",
    "S, k = input().split()\n",
    "\n",
    "for comb in combinations_with_replacement(sorted(S), int(k)):\n",
    "    print(\"\".join(comb))"
   ]
  },
  {
   "cell_type": "markdown",
   "metadata": {},
   "source": [
    "### 7. Collections"
   ]
  },
  {
   "cell_type": "markdown",
   "metadata": {},
   "source": [
    "#### collections.Counter()\n"
   ]
  },
  {
   "cell_type": "code",
   "execution_count": null,
   "metadata": {},
   "outputs": [],
   "source": [
    "from collections import Counter\n",
    "\n",
    "X = int(input())\n",
    "\n",
    "shoes_sizes = Counter(map(int, input().split()))\n",
    "\n",
    "N = int(input())\n",
    "\n",
    "earnings = 0    \n",
    "    \n",
    "for i in range(N):\n",
    "    (size, price) = map(int, input().split())\n",
    "    if shoes_sizes[size] > 0:\n",
    "        shoes_sizes[size] -= 1\n",
    "        earnings += price\n",
    "\n",
    "print(earnings)"
   ]
  },
  {
   "cell_type": "markdown",
   "metadata": {},
   "source": [
    "#### DefaultDict Tutorial"
   ]
  },
  {
   "cell_type": "code",
   "execution_count": null,
   "metadata": {},
   "outputs": [],
   "source": [
    "from collections import defaultdict\n",
    "\n",
    "n, m = [int(x) for x in input().split()]\n",
    "\n",
    "A = defaultdict(list) \n",
    "\n",
    "for i in range(n):\n",
    "    A[str(input())].append(i+1)   \n",
    "    \n",
    "for j in range(m):\n",
    "    B = str(input())\n",
    "    if B in A:\n",
    "        string = str(A[B])\n",
    "        print(\" \".join(map(str, A[B])))\n",
    "    else:\n",
    "        print(\"-1\")"
   ]
  },
  {
   "cell_type": "markdown",
   "metadata": {},
   "source": [
    "#### Collections.namedtuple()"
   ]
  },
  {
   "cell_type": "code",
   "execution_count": null,
   "metadata": {},
   "outputs": [],
   "source": [
    "from collections import namedtuple\n",
    "\n",
    "N = int(input().strip())\n",
    "\n",
    "stud = namedtuple(\"Student\", input().split())\n",
    "\n",
    "scores = 0\n",
    "\n",
    "for i in range(N):\n",
    "    ID, MARKS, NAME, CLASS = input().split()\n",
    "    studs = stud(ID, MARKS, NAME, CLASS)\n",
    "    scores += int(studs.MARKS)\n",
    "print('{:.2f}'.format(scores / N))"
   ]
  },
  {
   "cell_type": "markdown",
   "metadata": {},
   "source": [
    "#### Collections.OrderedDict()"
   ]
  },
  {
   "cell_type": "code",
   "execution_count": null,
   "metadata": {},
   "outputs": [],
   "source": [
    "from collections import OrderedDict\n",
    "\n",
    "N = int(input().strip())\n",
    "\n",
    "ord_dic = OrderedDict()\n",
    "\n",
    "for i in range(N):\n",
    "    item_price = input().split()\n",
    "    for j in range(len(item_price)):\n",
    "        if item_price[j+1].isalpha():\n",
    "            item_price[j] = item_price[j] + \" \" + item_price[j+1]\n",
    "            item_price[j+1] = item_price[j+2]\n",
    "        else:\n",
    "            break\n",
    "    ord_dic[item_price[0]] = ord_dic.get(item_price[0], 0) + int(item_price[1])\n",
    "        \n",
    "for key, value in ord_dic.items():\n",
    "    print(key, value)"
   ]
  },
  {
   "cell_type": "markdown",
   "metadata": {},
   "source": [
    "#### Word Order"
   ]
  },
  {
   "cell_type": "code",
   "execution_count": null,
   "metadata": {},
   "outputs": [],
   "source": [
    "import collections\n",
    "\n",
    "from collections import Counter\n",
    "\n",
    "n = int(input())\n",
    "\n",
    "words = []\n",
    "\n",
    "for i in range(n):\n",
    "    words.append(input())\n",
    "    \n",
    "words = list(Counter(words).values())\n",
    "\n",
    "print(len(words))\n",
    "\n",
    "for i in range(len(words)):\n",
    "    print(words[i], end = ' ')"
   ]
  },
  {
   "cell_type": "markdown",
   "metadata": {},
   "source": [
    "#### Collections.deque()"
   ]
  },
  {
   "cell_type": "code",
   "execution_count": null,
   "metadata": {},
   "outputs": [],
   "source": [
    "from collections import deque\n",
    "\n",
    "d = deque()\n",
    "\n",
    "for i in range(int(input().strip())):\n",
    "    command = input().split()\n",
    "    if command[0] == \"append\":\n",
    "        d.append(command[1])\n",
    "    elif command[0] == \"appendleft\":\n",
    "        d.appendleft(command[1])\n",
    "    elif command[0] == \"pop\":\n",
    "        d.pop()\n",
    "    else:\n",
    "        d.popleft()\n",
    "\n",
    "print(\" \".join(d))"
   ]
  },
  {
   "cell_type": "markdown",
   "metadata": {},
   "source": [
    "#### Company Logo"
   ]
  },
  {
   "cell_type": "code",
   "execution_count": null,
   "metadata": {},
   "outputs": [],
   "source": [
    "#!/bin/python3\n",
    "\n",
    "import math\n",
    "import os\n",
    "import random\n",
    "import re\n",
    "import sys\n",
    "import collections\n",
    "\n",
    "\n",
    "\n",
    "if __name__ == '__main__':\n",
    "\n",
    "    s = sorted(input().strip())\n",
    "\n",
    "    count = collections.Counter(s).most_common()\n",
    "\n",
    "    count = sorted(count, key=lambda x: (-x[1], x[0]))\n",
    "\n",
    "    for i in range(3):\n",
    "        print(count[i][0], count[i][1])"
   ]
  },
  {
   "cell_type": "markdown",
   "metadata": {},
   "source": [
    "#### Piling Up!"
   ]
  },
  {
   "cell_type": "code",
   "execution_count": null,
   "metadata": {},
   "outputs": [],
   "source": [
    "for i in range(int(input())): \n",
    "\n",
    "    n, t = int(input()), tuple(map(int, input().split()))\n",
    "\n",
    "    if (t[0:t.index(min(t))] == tuple(sorted(t[0:t.index(min(t))], reverse = True))) and (t[(t.index(min(t)))+1:] == tuple(sorted(t[t.index(min(t))+1:]))):\n",
    "        print('Yes')\n",
    "    else:\n",
    "        print('No')"
   ]
  },
  {
   "cell_type": "markdown",
   "metadata": {},
   "source": [
    "### 8. Date and Time"
   ]
  },
  {
   "cell_type": "markdown",
   "metadata": {},
   "source": [
    "#### Calendar Module"
   ]
  },
  {
   "cell_type": "code",
   "execution_count": null,
   "metadata": {},
   "outputs": [],
   "source": [
    "import calendar\n",
    "\n",
    "date = raw_input().strip().split()\n",
    "\n",
    "month = int(date[0])\n",
    "day = int(date[1])\n",
    "year = int(date[2])\n",
    "\n",
    "print(calendar.day_name[calendar.weekday(year, month, day)].upper())"
   ]
  },
  {
   "cell_type": "markdown",
   "metadata": {},
   "source": [
    "#### Time Delta"
   ]
  },
  {
   "cell_type": "code",
   "execution_count": null,
   "metadata": {},
   "outputs": [],
   "source": [
    "import datetime\n",
    "\n",
    "l = [datetime.datetime.strptime(str(input()), \"%a %d %b %Y %H:%M:%S %z\") for x in range(int(input())*2)]\n",
    "\n",
    "for i in range(0, len(l), 2): print(abs(int((l[i]-l[i+1]).total_seconds())))"
   ]
  },
  {
   "cell_type": "markdown",
   "metadata": {},
   "source": [
    "### 9. Errors and Exceptions"
   ]
  },
  {
   "cell_type": "markdown",
   "metadata": {},
   "source": [
    "#### Exceptions"
   ]
  },
  {
   "cell_type": "code",
   "execution_count": null,
   "metadata": {},
   "outputs": [],
   "source": [
    "a = raw_input()\n",
    "b= []\n",
    "for _ in range(int(a)):\n",
    "    b.append(raw_input().split())\n",
    "for i in range(int(a)):    \n",
    "    try:\n",
    "        print(int(b[i][0])/int(b[i][1]))\n",
    "    except ZeroDivisionError as e:\n",
    "        print\"Error Code:\", e\n",
    "    except ValueError as v:\n",
    "        print\"Error Code:\", v"
   ]
  },
  {
   "cell_type": "markdown",
   "metadata": {},
   "source": [
    "#### Incorrect Regex"
   ]
  },
  {
   "cell_type": "code",
   "execution_count": null,
   "metadata": {},
   "outputs": [],
   "source": [
    "import re\n",
    "\n",
    "T = int(input())\n",
    "\n",
    "S = [input() for x in range(T)]\n",
    "\n",
    "for i in range(T):\n",
    "    try:\n",
    "        re.compile(S[i])\n",
    "        is_valid = True\n",
    "    except re.error:\n",
    "        is_valid = False\n",
    "\n",
    "    print(is_valid)"
   ]
  },
  {
   "cell_type": "markdown",
   "metadata": {},
   "source": [
    "### 10. Built-Ins"
   ]
  },
  {
   "cell_type": "markdown",
   "metadata": {},
   "source": [
    "#### Zipped!"
   ]
  },
  {
   "cell_type": "code",
   "execution_count": null,
   "metadata": {},
   "outputs": [],
   "source": [
    "import statistics\n",
    "\n",
    "from statistics import mean\n",
    "\n",
    "N, X = map(int, input().split())\n",
    "\n",
    "scores = []\n",
    "\n",
    "for x in range(X):\n",
    "    scores.append([float(y) for y in input().split()])\n",
    "    \n",
    "studs_scores = tuple(zip(*scores))\n",
    "\n",
    "for i in range(len(studs_scores)):\n",
    "    m = mean(studs_scores[i])\n",
    "    print(round(m, 1))"
   ]
  },
  {
   "cell_type": "markdown",
   "metadata": {},
   "source": [
    "#### Input()"
   ]
  },
  {
   "cell_type": "code",
   "execution_count": null,
   "metadata": {},
   "outputs": [],
   "source": [
    "x, k = map(int, raw_input().split())\n",
    "\n",
    "print input() == k"
   ]
  },
  {
   "cell_type": "markdown",
   "metadata": {},
   "source": [
    "#### Python Evaluation"
   ]
  },
  {
   "cell_type": "code",
   "execution_count": null,
   "metadata": {},
   "outputs": [],
   "source": [
    "var = input().strip()\n",
    "\n",
    "eval(var)"
   ]
  },
  {
   "cell_type": "markdown",
   "metadata": {},
   "source": [
    "#### Any or All"
   ]
  },
  {
   "cell_type": "code",
   "execution_count": null,
   "metadata": {},
   "outputs": [],
   "source": [
    "N = int(input())\n",
    "\n",
    "N_list = list(map(int, input().split()))\n",
    "\n",
    "print(all([n > 0 for n in N_list]) and any([int(str(n)[::-1]) is n for n in N_list]))"
   ]
  },
  {
   "cell_type": "markdown",
   "metadata": {},
   "source": [
    "### 11. Python Functionals"
   ]
  },
  {
   "cell_type": "markdown",
   "metadata": {},
   "source": [
    "#### Map and Lambda Function"
   ]
  },
  {
   "cell_type": "code",
   "execution_count": null,
   "metadata": {},
   "outputs": [],
   "source": [
    "cube = lambda x: x**3\n",
    "\n",
    "def fibonacci(n):\n",
    "    fibo = []\n",
    "    for i in range(n):\n",
    "        if i < 2:\n",
    "            fibo += [i]\n",
    "        else:\n",
    "            fibo += [fibo[-1] + fibo[-2]]\n",
    "    return fibo"
   ]
  },
  {
   "cell_type": "markdown",
   "metadata": {},
   "source": [
    "### 12. Regex and Parsing"
   ]
  },
  {
   "cell_type": "markdown",
   "metadata": {},
   "source": [
    "#### Detect Floating Point Number"
   ]
  },
  {
   "cell_type": "code",
   "execution_count": null,
   "metadata": {},
   "outputs": [],
   "source": [
    "import re\n",
    "\n",
    "t = int(input())\n",
    "\n",
    "for i in range(t):\n",
    "    k = input()\n",
    "    print(bool(re.match(r'^[+-]?\\d*?\\.{1}\\d+$',k)))"
   ]
  },
  {
   "cell_type": "markdown",
   "metadata": {},
   "source": [
    "#### Re.split()"
   ]
  },
  {
   "cell_type": "code",
   "execution_count": null,
   "metadata": {},
   "outputs": [],
   "source": [
    "regex_pattern = r\"[,.]\""
   ]
  },
  {
   "cell_type": "markdown",
   "metadata": {},
   "source": [
    "#### Group(), Groups() & Groupdict()"
   ]
  },
  {
   "cell_type": "code",
   "execution_count": null,
   "metadata": {},
   "outputs": [],
   "source": [
    "import re\n",
    "\n",
    "m = re.search(r\"([a-zA-Z0-9])\\1+\", input())\n",
    "\n",
    "if m:\n",
    "    print(m.group(1))\n",
    "else:\n",
    "    print('-1')   "
   ]
  },
  {
   "cell_type": "markdown",
   "metadata": {},
   "source": [
    "#### Re.findall() & Re.finditer()"
   ]
  },
  {
   "cell_type": "code",
   "execution_count": null,
   "metadata": {},
   "outputs": [],
   "source": [
    "import re\n",
    "\n",
    "l = re.findall(r'[^aiueo]([aiueoAIUEO]{2,})(?=[^aiueo])', str(input()))\n",
    "\n",
    "if not l:\n",
    "    print('-1')\n",
    "else:\n",
    "    for i in range(len(l)):\n",
    "        print(l[i]) "
   ]
  },
  {
   "cell_type": "markdown",
   "metadata": {},
   "source": [
    "#### Re.start() & Re.end()"
   ]
  },
  {
   "cell_type": "code",
   "execution_count": null,
   "metadata": {},
   "outputs": [],
   "source": [
    "import re\n",
    "\n",
    "S, k = input().strip(), input().strip()\n",
    "pattern = r'(?='+k+')'\n",
    "\n",
    "matches = list(re.finditer(pattern, S))\n",
    "\n",
    "if matches:\n",
    "    for match in matches:\n",
    "         print((match.start(), match.start() + len(k) - 1))        \n",
    "\n",
    "else:\n",
    "    print('(-1, -1)')"
   ]
  },
  {
   "cell_type": "markdown",
   "metadata": {},
   "source": [
    "#### Regex Substitution"
   ]
  },
  {
   "cell_type": "code",
   "execution_count": null,
   "metadata": {},
   "outputs": [],
   "source": [
    "import re\n",
    "\n",
    "for i in range(int(input())):\n",
    "    string = input()\n",
    "    string = re.sub(r\"(?<= )&&(?= )\", \"and\", string)\n",
    "    string = re.sub(r\"(?<= )(\\|\\|)(?= )\", \"or\", string)\n",
    "    print(string)"
   ]
  },
  {
   "cell_type": "markdown",
   "metadata": {},
   "source": [
    "#### Validating Roman Numerals"
   ]
  },
  {
   "cell_type": "code",
   "execution_count": null,
   "metadata": {},
   "outputs": [],
   "source": [
    "regex_pattern = r'^M{0,3}(CM|CD|D?C{0,3})(XC|XL|L?X{0,3})(IX|IV|V?I{0,3})$'"
   ]
  },
  {
   "cell_type": "markdown",
   "metadata": {},
   "source": [
    "#### Validating phone numbers"
   ]
  },
  {
   "cell_type": "code",
   "execution_count": null,
   "metadata": {},
   "outputs": [],
   "source": [
    "import re\n",
    "\n",
    "for i in range(int(input())):\n",
    "    if re.match(r\"^[789][\\d]{9}$\", input()):\n",
    "        print(\"YES\")\n",
    "    else:\n",
    "        print(\"NO\")"
   ]
  },
  {
   "cell_type": "markdown",
   "metadata": {},
   "source": [
    "#### Validating and Parsing Email Addresses"
   ]
  },
  {
   "cell_type": "code",
   "execution_count": null,
   "metadata": {},
   "outputs": [],
   "source": [
    "import re\n",
    "\n",
    "pattern = re.compile(\"<[a-z][a-zA-Z0-9\\-\\.\\_]+@[a-zA-Z]+\\.[a-zA-Z]{1,3}>\")\n",
    "\n",
    "for i in range(int(input())):\n",
    "    name, email = input().split()\n",
    "    if bool(re.match(pattern, email)):\n",
    "        print(name, email)"
   ]
  },
  {
   "cell_type": "markdown",
   "metadata": {},
   "source": [
    "#### Hex Color Code"
   ]
  },
  {
   "cell_type": "code",
   "execution_count": null,
   "metadata": {},
   "outputs": [],
   "source": [
    "import re\n",
    "\n",
    "s = [input() for i in range(int(input()))] \n",
    "\n",
    "for j in range(len(s)):\n",
    "    matches = re.findall(r'(?<=.)#{1}[0-9A-Fa-f]{3,6}', s[j])\n",
    "    for m in matches:\n",
    "        print(m)"
   ]
  },
  {
   "cell_type": "markdown",
   "metadata": {},
   "source": [
    "#### HTML Parser - Part 1"
   ]
  },
  {
   "cell_type": "code",
   "execution_count": null,
   "metadata": {},
   "outputs": [],
   "source": [
    "from HTMLParser import HTMLParser\n",
    "\n",
    "class MyHTMLParser(HTMLParser):\n",
    "    def handle_starttag(self, tag, attrs):\n",
    "        print \"Start : \" + tag\n",
    "        for attr in attrs:\n",
    "            print '-> ' + attr[0] + ' > ' + str(attr[1])\n",
    "    def handle_endtag(self, tag):\n",
    "        print(\"End   : \" + tag)\n",
    "    def handle_startendtag(self, tag, attrs):\n",
    "        print(\"Empty : \" + tag)\n",
    "        for attr in attrs:\n",
    "            print('-> ' + attr[0] + ' > ' + str(attr[1]))\n",
    "\n",
    "\n",
    "parser = MyHTMLParser()\n",
    "\n",
    "for _ in range(int(raw_input())):\n",
    "    parser.feed(raw_input())"
   ]
  },
  {
   "cell_type": "markdown",
   "metadata": {},
   "source": [
    "#### HTML Parser - Part 2"
   ]
  },
  {
   "cell_type": "code",
   "execution_count": null,
   "metadata": {},
   "outputs": [],
   "source": [
    "from html.parser import HTMLParser\n",
    "\n",
    "class MyHTMLParser(HTMLParser):\n",
    "  \n",
    "    def handle_data(self, data):\n",
    "        if data.strip():\n",
    "            print(\">>> Data\")\n",
    "            print(data)\n",
    "\n",
    "    def handle_comment(self, data):\n",
    "        n = len(data.split('\\n'))\n",
    "        if n > 1:\n",
    "            print(\">>> Multi-line Comment\")\n",
    "        else:\n",
    "            print(\">>> Single-line Comment\")\n",
    "        if data.strip():\n",
    "            print(data)\n",
    "  \n",
    "html = \"\"       \n",
    "for i in range(int(input())):\n",
    "    html += input().rstrip()\n",
    "    html += '\\n'\n",
    "    \n",
    "parser = MyHTMLParser()\n",
    "parser.feed(html)\n",
    "parser.close()"
   ]
  },
  {
   "cell_type": "markdown",
   "metadata": {},
   "source": [
    "#### Detect HTML Tags, Attributes and Attribute Values"
   ]
  },
  {
   "cell_type": "code",
   "execution_count": null,
   "metadata": {},
   "outputs": [],
   "source": [
    "from html.parser import HTMLParser\n",
    "\n",
    "class MyHTMLParser(HTMLParser):\n",
    "    def handle_starttag(self, tag, attrs):\n",
    "        print(tag)\n",
    "        for attr in attrs:\n",
    "            print(\"-> {} > {}\".format(attr[0], attr[1]))\n",
    "\n",
    "parser = MyHTMLParser()\n",
    "\n",
    "N = int(input())\n",
    "\n",
    "for i in range(N):\n",
    "    s = input()\n",
    "    parser.feed(s)"
   ]
  },
  {
   "cell_type": "markdown",
   "metadata": {},
   "source": [
    "#### Validating UID"
   ]
  },
  {
   "cell_type": "code",
   "execution_count": null,
   "metadata": {},
   "outputs": [],
   "source": [
    "import re\n",
    "\n",
    "def UID(s):\n",
    "    l = [s[i] for i in range(len(s))]\n",
    "    l.sort()\n",
    "    l = ''.join(l)\n",
    "\n",
    "    matches = re.findall(r'[A-Z]{2}', l)\n",
    "    if len(matches) == 0:\n",
    "        return 'Invalid'\n",
    "\n",
    "    matches = re.findall(r'[0-9]{3}', l)\n",
    "    if len(matches) == 0:\n",
    "        return 'Invalid'\n",
    "\n",
    "    matches = re.findall(r'[a-zA-Z0-9]{10}', s)\n",
    "    if matches[0] != s:\n",
    "        return 'Invalid'\n",
    "\n",
    "    for i in range(len(l)-1):\n",
    "        if l[i] == l[i+1]:\n",
    "            return 'Invalid' \n",
    "\n",
    "    return 'Valid'\n",
    "\n",
    "N = int(input())\n",
    "\n",
    "for i in range(N):\n",
    "    s = input()\n",
    "    print(UID(s))"
   ]
  },
  {
   "cell_type": "markdown",
   "metadata": {},
   "source": [
    "#### Validating Credit Card Numbers"
   ]
  },
  {
   "cell_type": "code",
   "execution_count": null,
   "metadata": {},
   "outputs": [],
   "source": [
    "import re\n",
    "\n",
    "for i in range(int(input())):\n",
    "    pattern = re.compile(r'^(?!.*(\\d)(-?\\1){3})[456]\\d{3}-?\\d{4}-?\\d{4}-?\\d{4}$')\n",
    "    if re.match(pattern, input()):\n",
    "        print(\"Valid\")\n",
    "    else:\n",
    "        print(\"Invalid\")"
   ]
  },
  {
   "cell_type": "markdown",
   "metadata": {},
   "source": [
    "#### Matrix Script"
   ]
  },
  {
   "cell_type": "code",
   "execution_count": null,
   "metadata": {},
   "outputs": [],
   "source": [
    "#!/bin/python3\n",
    "\n",
    "import math\n",
    "import os\n",
    "import random\n",
    "import re\n",
    "import sys\n",
    "\n",
    "\n",
    "first_multiple_input = input().rstrip().split()\n",
    "\n",
    "n = int(first_multiple_input[0])\n",
    "\n",
    "m = int(first_multiple_input[1])\n",
    "\n",
    "matrix = []\n",
    "\n",
    "e = ''\n",
    "\n",
    "for _ in range(n):\n",
    "    matrix_item = input()\n",
    "    matrix.append(matrix_item)\n",
    "\n",
    "for i in zip(*matrix):\n",
    "    e += \"\".join(i)\n",
    "\n",
    "print(re.sub(r\"(?<=\\w)([^\\w]+)(?=\\w)\", \" \", e))"
   ]
  },
  {
   "cell_type": "markdown",
   "metadata": {},
   "source": [
    "### 13. XML"
   ]
  },
  {
   "cell_type": "markdown",
   "metadata": {},
   "source": [
    "#### XML 1 - Find the Score"
   ]
  },
  {
   "cell_type": "code",
   "execution_count": null,
   "metadata": {},
   "outputs": [],
   "source": [
    "def get_attr_number(node):\n",
    "    count = 0\n",
    "    \n",
    "    for child in node.iter():\n",
    "        count += len(child.attrib)\n",
    "\n",
    "    return count"
   ]
  },
  {
   "cell_type": "markdown",
   "metadata": {},
   "source": [
    "#### XML2 - Find the Maximum Depth"
   ]
  },
  {
   "cell_type": "code",
   "execution_count": null,
   "metadata": {},
   "outputs": [],
   "source": [
    "maxdepth = 0\n",
    "def depth(elem, level):\n",
    "    global maxdepth\n",
    "    level += 1\n",
    "    \n",
    "    if len(elem) > 0:\n",
    "        for tag in elem:\n",
    "            depth(tag, level)\n",
    "    else:\n",
    "        if maxdepth < level:\n",
    "            maxdepth = level"
   ]
  },
  {
   "cell_type": "markdown",
   "metadata": {},
   "source": [
    "### 14. Closures and Decorators"
   ]
  },
  {
   "cell_type": "markdown",
   "metadata": {},
   "source": [
    "#### Standardize Mobile Number Using Decorators"
   ]
  },
  {
   "cell_type": "code",
   "execution_count": null,
   "metadata": {},
   "outputs": [],
   "source": [
    "def wrapper(f):\n",
    "    def fun(l):\n",
    "        f([\"+91 \" + c[-10:-5] + \" \" + c[-5:] for c in l])\n",
    "    return fun"
   ]
  },
  {
   "cell_type": "markdown",
   "metadata": {},
   "source": [
    "#### Decorators 2 - Name Directory"
   ]
  },
  {
   "cell_type": "code",
   "execution_count": null,
   "metadata": {},
   "outputs": [],
   "source": [
    "def person_lister(f):\n",
    "    def inner(people):\n",
    "        return map(f, sorted(people, key=lambda x: int(x[2])))\n",
    "    return inner"
   ]
  },
  {
   "cell_type": "markdown",
   "metadata": {},
   "source": [
    "### 15. Numpy"
   ]
  },
  {
   "cell_type": "markdown",
   "metadata": {},
   "source": [
    "####  Arrays"
   ]
  },
  {
   "cell_type": "code",
   "execution_count": null,
   "metadata": {},
   "outputs": [],
   "source": [
    "def arrays(arr):\n",
    "    lst = numpy.array([float(x) for x in arr])\n",
    "    rev = numpy.fliplr([lst])[0]\n",
    "    return rev"
   ]
  },
  {
   "cell_type": "markdown",
   "metadata": {},
   "source": [
    "#### Shape and Reshape"
   ]
  },
  {
   "cell_type": "code",
   "execution_count": null,
   "metadata": {},
   "outputs": [],
   "source": [
    "import numpy as np\n",
    "\n",
    "lst = np.array([int(x) for x in input().split()])\n",
    "\n",
    "print(np.reshape(lst,(3,3)))"
   ]
  },
  {
   "cell_type": "markdown",
   "metadata": {},
   "source": [
    "#### Transpose and Flatten"
   ]
  },
  {
   "cell_type": "code",
   "execution_count": null,
   "metadata": {},
   "outputs": [],
   "source": [
    "import numpy as np\n",
    "\n",
    "N, M = [int(x) for x in input().split()]\n",
    "\n",
    "array = []\n",
    "\n",
    "for i in range(N):\n",
    "    array.append([int(i) for i in input().split()])\n",
    "    \n",
    "np_array = np.array(array)\n",
    "\n",
    "print(np.transpose(np_array))\n",
    "print(np_array.flatten())  "
   ]
  },
  {
   "cell_type": "markdown",
   "metadata": {},
   "source": [
    "#### Concatenate"
   ]
  },
  {
   "cell_type": "code",
   "execution_count": null,
   "metadata": {},
   "outputs": [],
   "source": [
    "import numpy as np\n",
    "\n",
    "N, M, P = [int(x) for x in input().split()]\n",
    "\n",
    "array_N = []\n",
    "array_M = []\n",
    "\n",
    "for i in range(N):\n",
    "    array_N.append([int(i) for i in input().split()])\n",
    "    \n",
    "for i in range(M):\n",
    "    array_M.append([int(i) for i in input().split()])\n",
    "\n",
    "print(np.concatenate((array_N, array_M), axis = 0))"
   ]
  },
  {
   "cell_type": "markdown",
   "metadata": {},
   "source": [
    "#### Zeros and Ones"
   ]
  },
  {
   "cell_type": "code",
   "execution_count": null,
   "metadata": {},
   "outputs": [],
   "source": [
    "import numpy as np\n",
    "\n",
    "N = tuple(map(int, input().split()))\n",
    "\n",
    "print(np.zeros(N, dtype = int))\n",
    "print(np.ones(N, dtype = int))"
   ]
  },
  {
   "cell_type": "markdown",
   "metadata": {},
   "source": [
    "#### Eye and Identity"
   ]
  },
  {
   "cell_type": "code",
   "execution_count": null,
   "metadata": {},
   "outputs": [],
   "source": [
    "import numpy as np\n",
    "\n",
    "np.set_printoptions(legacy='1.13')\n",
    "\n",
    "N,M = [int(x) for x in input().split()]\n",
    "\n",
    "eye = (np.eye(N,M))\n",
    "\n",
    "print(eye)"
   ]
  },
  {
   "cell_type": "markdown",
   "metadata": {},
   "source": [
    "#### Array Mathematics"
   ]
  },
  {
   "cell_type": "code",
   "execution_count": null,
   "metadata": {},
   "outputs": [],
   "source": [
    "import numpy as np\n",
    "\n",
    "N, M = [int(x) for x in input().split()]\n",
    "\n",
    "array_A = []\n",
    "array_B = []\n",
    "\n",
    "for i in range(N):\n",
    "        array_A.append([int(i) for i in input().split()])\n",
    "    \n",
    "for i in range(N):\n",
    "        array_B.append([int(i) for i in input().split()])\n",
    "\n",
    "np_array_A = np.array(array_A, dtype = int)\n",
    "np_array_B = np.array(array_B, dtype = int)\n",
    "\n",
    "print(np.add(np_array_A, np_array_B, dtype = int))\n",
    "print(np.subtract(np_array_A, np_array_B, dtype = int))\n",
    "print(np.multiply(np_array_A, np_array_B, dtype = int))\n",
    "print(np.floor_divide(np_array_A, np_array_B, dtype = int))\n",
    "print(np.mod(np_array_A, np_array_B, dtype = int))\n",
    "print(np.power(np_array_A, np_array_B, dtype = int))"
   ]
  },
  {
   "cell_type": "markdown",
   "metadata": {},
   "source": [
    "#### Floor, Ceil and Rint"
   ]
  },
  {
   "cell_type": "code",
   "execution_count": null,
   "metadata": {},
   "outputs": [],
   "source": [
    "import numpy as np\n",
    "\n",
    "np.set_printoptions(legacy='1.13')\n",
    "\n",
    "A = np.array(input().split(), dtype = float)\n",
    "\n",
    "print(np.floor(A))\n",
    "print(np.ceil(A))\n",
    "print(np.rint(A))"
   ]
  },
  {
   "cell_type": "markdown",
   "metadata": {},
   "source": [
    "#### Sum and Prod"
   ]
  },
  {
   "cell_type": "code",
   "execution_count": null,
   "metadata": {},
   "outputs": [],
   "source": [
    "import numpy as np\n",
    "\n",
    "N, M = map(int, input().split())\n",
    "\n",
    "arr = np.array([list(map(int, input().split())) for n in range(N)])\n",
    "\n",
    "print(np.prod(np.sum(arr, axis = 0), axis = 0))"
   ]
  },
  {
   "cell_type": "markdown",
   "metadata": {},
   "source": [
    "#### Min and Max"
   ]
  },
  {
   "cell_type": "code",
   "execution_count": null,
   "metadata": {},
   "outputs": [],
   "source": [
    "import numpy\n",
    "\n",
    "N, M = map(int, input().split())\n",
    "\n",
    "A = numpy.array([list(map(int, input().split())) for n in range(N)])\n",
    "\n",
    "print(numpy.max(numpy.min(A, axis = 1), axis = 0))"
   ]
  },
  {
   "cell_type": "markdown",
   "metadata": {},
   "source": [
    "#### Mean, Var, and Std\n"
   ]
  },
  {
   "cell_type": "code",
   "execution_count": null,
   "metadata": {},
   "outputs": [],
   "source": [
    "import numpy as np\n",
    "\n",
    "np.set_printoptions(legacy = '1.13')\n",
    "\n",
    "N, M = map(int, input().split())\n",
    "\n",
    "A = np.array([list(map(int, input().split())) for n in range(N)])\n",
    "\n",
    "print(np.mean(A, 1))\n",
    "print(np.var(A, 0))\n",
    "print(np.std(A, None))"
   ]
  },
  {
   "cell_type": "markdown",
   "metadata": {},
   "source": [
    "#### Dot and Cross"
   ]
  },
  {
   "cell_type": "code",
   "execution_count": null,
   "metadata": {},
   "outputs": [],
   "source": [
    "import numpy\n",
    "\n",
    "N = int(input())\n",
    "\n",
    "A = numpy.array([list(map(int, input().split())) for n in range(N)])\n",
    "B = numpy.array([list(map(int, input().split())) for n in range(N)])\n",
    "\n",
    "print(numpy.dot(A, B))"
   ]
  },
  {
   "cell_type": "markdown",
   "metadata": {},
   "source": [
    "#### Inner and Outer"
   ]
  },
  {
   "cell_type": "code",
   "execution_count": null,
   "metadata": {},
   "outputs": [],
   "source": [
    "import numpy as np\n",
    "\n",
    "A = np.array(list(map(int, input().split())))\n",
    "B = np.array(list(map(int, input().split())))\n",
    "\n",
    "print(np.inner(A,B))\n",
    "print(np.outer(A,B))"
   ]
  },
  {
   "cell_type": "markdown",
   "metadata": {},
   "source": [
    "#### Polynomials"
   ]
  },
  {
   "cell_type": "code",
   "execution_count": null,
   "metadata": {},
   "outputs": [],
   "source": [
    "import numpy as np\n",
    "\n",
    "A = list(map(float, input().split()))\n",
    "x = int(input())\n",
    "\n",
    "print(np.polyval(A,x))"
   ]
  },
  {
   "cell_type": "markdown",
   "metadata": {},
   "source": [
    "#### Linear Algebra"
   ]
  },
  {
   "cell_type": "code",
   "execution_count": null,
   "metadata": {},
   "outputs": [],
   "source": [
    "import numpy \n",
    "\n",
    "numpy.set_printoptions(legacy='1.13')\n",
    "\n",
    "N = int(input().strip())\n",
    "\n",
    "A = numpy.array([input().split() for i in range(N)],float)\n",
    "    \n",
    "print(numpy.round(numpy.linalg.det(A), 2))"
   ]
  },
  {
   "cell_type": "markdown",
   "metadata": {},
   "source": [
    "### 16. Debugging"
   ]
  },
  {
   "cell_type": "markdown",
   "metadata": {},
   "source": [
    "#### Words Score"
   ]
  },
  {
   "cell_type": "code",
   "execution_count": null,
   "metadata": {},
   "outputs": [],
   "source": [
    "def is_vowel(letter):\n",
    "    return letter in ['a', 'e', 'i', 'o', 'u', 'y']\n",
    "\n",
    "def score_words(words):\n",
    "    score = 0\n",
    "    for word in words:\n",
    "        num_vowels = 0\n",
    "        for letter in word:\n",
    "            if is_vowel(letter):\n",
    "                num_vowels += 1\n",
    "        if num_vowels % 2 == 0:\n",
    "            score += 2\n",
    "        else:\n",
    "            score += 1\n",
    "    return score"
   ]
  },
  {
   "cell_type": "markdown",
   "metadata": {},
   "source": [
    "### Challenges"
   ]
  },
  {
   "cell_type": "markdown",
   "metadata": {},
   "source": [
    "#### Birthday Cake Candles"
   ]
  },
  {
   "cell_type": "code",
   "execution_count": null,
   "metadata": {},
   "outputs": [],
   "source": [
    "#!/bin/python3\n",
    "\n",
    "import math\n",
    "import os\n",
    "import random\n",
    "import re\n",
    "import sys\n",
    "\n",
    "# Complete the birthdayCakeCandles function below.\n",
    "def birthdayCakeCandles(ar):\n",
    "\n",
    "    return ar.count(max(ar))\n",
    "\n",
    "if __name__ == '__main__':\n",
    "    fptr = open(os.environ['OUTPUT_PATH'], 'w')\n",
    "\n",
    "    ar_count = int(input())\n",
    "\n",
    "    ar = list(map(int, input().rstrip().split()))\n",
    "\n",
    "    result = birthdayCakeCandles(ar)\n",
    "\n",
    "    fptr.write(str(result) + '\\n')\n",
    "\n",
    "    fptr.close()"
   ]
  },
  {
   "cell_type": "markdown",
   "metadata": {},
   "source": [
    "#### Kangaroo"
   ]
  },
  {
   "cell_type": "code",
   "execution_count": null,
   "metadata": {},
   "outputs": [],
   "source": [
    "#!/bin/python3\n",
    "\n",
    "import math\n",
    "import os\n",
    "import random\n",
    "import re\n",
    "import sys\n",
    "\n",
    "# Complete the kangaroo function below.\n",
    "def kangaroo(x1, v1, x2, v2):\n",
    "    t_f = ''\n",
    "    if (x1 < x2 and v1 <= v2) or ((abs(x1 - x2) % abs(v1 - v2) != 0)):\n",
    "        t_f = 'NO'\n",
    "    else:\n",
    "        t_f = 'YES'\n",
    "    \n",
    "    return t_f\n",
    "\n",
    "if __name__ == '__main__':\n",
    "    fptr = open(os.environ['OUTPUT_PATH'], 'w')\n",
    "\n",
    "    x1V1X2V2 = input().split()\n",
    "\n",
    "    x1 = int(x1V1X2V2[0])\n",
    "\n",
    "    v1 = int(x1V1X2V2[1])\n",
    "\n",
    "    x2 = int(x1V1X2V2[2])\n",
    "\n",
    "    v2 = int(x1V1X2V2[3])\n",
    "\n",
    "    result = kangaroo(x1, v1, x2, v2)\n",
    "\n",
    "    fptr.write(result + '\\n')\n",
    "\n",
    "    fptr.close()"
   ]
  },
  {
   "cell_type": "markdown",
   "metadata": {},
   "source": [
    "#### Viral Advertising"
   ]
  },
  {
   "cell_type": "code",
   "execution_count": null,
   "metadata": {},
   "outputs": [],
   "source": [
    "#!/bin/python3\n",
    "\n",
    "import math\n",
    "import os\n",
    "import random\n",
    "import re\n",
    "import sys\n",
    "\n",
    "# Complete the viralAdvertising function below.\n",
    "def viralAdvertising(n):\n",
    "    \n",
    "    shared = 5\n",
    "    liked = 0\n",
    "    cumulative = 0\n",
    "\n",
    "    for i in range(n):\n",
    "        \n",
    "        liked = int(math.floor(shared/2))\n",
    "        cumulative+=liked\n",
    "        shared = liked*3\n",
    "\n",
    "    return cumulative\n",
    "\n",
    "if __name__ == '__main__':\n",
    "    fptr = open(os.environ['OUTPUT_PATH'], 'w')\n",
    "\n",
    "    n = int(input())\n",
    "\n",
    "    result = viralAdvertising(n)\n",
    "\n",
    "    fptr.write(str(result) + '\\n')\n",
    "\n",
    "    fptr.close()"
   ]
  },
  {
   "cell_type": "markdown",
   "metadata": {},
   "source": [
    "#### Insertion Sort - Part 1"
   ]
  },
  {
   "cell_type": "code",
   "execution_count": null,
   "metadata": {},
   "outputs": [],
   "source": [
    "#!/bin/python3\n",
    "\n",
    "import math\n",
    "import os\n",
    "import random\n",
    "import re\n",
    "import sys\n",
    "\n",
    "# Complete the insertionSort1 function below.\n",
    "def insertionSort(n, arr):\n",
    "\n",
    "    num = arr[-1]\n",
    "\n",
    "    for i in range(n-2, -1, -1):\n",
    "\n",
    "        if arr[i] > num:\n",
    "            arr[i+1] = arr[i]\n",
    "            print(\" \".join(str(j) for j in arr))\n",
    "\n",
    "        else:\n",
    "            arr[i+1] = num\n",
    "            print(\" \".join(str(j) for j in arr))\n",
    "            return\n",
    "\n",
    "    arr[0] = num\n",
    "    print(\" \".join(str(j) for j in arr))\n",
    "\n",
    "    return\n",
    "\n",
    "if __name__ == '__main__':\n",
    "    n = int(input())\n",
    "\n",
    "    arr = list(map(int, input().rstrip().split()))\n",
    "\n",
    "    insertionSort(n, arr)"
   ]
  },
  {
   "cell_type": "markdown",
   "metadata": {},
   "source": [
    "#### Insertion Sort - Part 2"
   ]
  },
  {
   "cell_type": "code",
   "execution_count": null,
   "metadata": {},
   "outputs": [],
   "source": [
    "#!/bin/python3\n",
    "\n",
    "import math\n",
    "import os\n",
    "import random\n",
    "import re\n",
    "import sys\n",
    "\n",
    "# Complete the insertionSort2 function below.\n",
    "def insertionSort2(n, arr):\n",
    "    for i in range(1, len(arr)):\n",
    "        t = arr[i]\n",
    "        j = i\n",
    "        while j > 0 and t < arr[j-1]:\n",
    "            arr[j] = arr[j-1]\n",
    "            j -= 1\n",
    "\n",
    "        arr[j] = t\n",
    "\n",
    "        print(' '.join(str(j) for j in arr))\n",
    "\n",
    "if __name__ == '__main__':\n",
    "    n = int(input())\n",
    "\n",
    "    arr = list(map(int, input().rstrip().split()))\n",
    "\n",
    "    insertionSort2(n, arr)"
   ]
  },
  {
   "cell_type": "markdown",
   "metadata": {},
   "source": [
    "#### Recursive Digit Sum"
   ]
  },
  {
   "cell_type": "code",
   "execution_count": null,
   "metadata": {},
   "outputs": [],
   "source": [
    "#!/bin/python3\n",
    "\n",
    "import math\n",
    "import os\n",
    "import random\n",
    "import re\n",
    "import sys\n",
    "\n",
    "# Complete the superDigit function below.\n",
    "def superDigit(n, k):\n",
    "\n",
    "    s = int(n * k)\n",
    "    sum = 0\n",
    "\n",
    "    while(s > 0 or sum > 9):\n",
    "        if(s == 0):\n",
    "            s = sum\n",
    "            sum = 0\n",
    "        \n",
    "        sum = sum + s%10\n",
    "        s = s//10\n",
    "    \n",
    "    return sum\n",
    "\n",
    "\n",
    "if __name__ == '__main__':\n",
    "    fptr = open(os.environ['OUTPUT_PATH'], 'w')\n",
    "\n",
    "    nk = input().split()\n",
    "\n",
    "    n = nk[0]\n",
    "\n",
    "    k = int(nk[1])\n",
    "\n",
    "    result = superDigit(n, k)\n",
    "\n",
    "    fptr.write(str(result) + '\\n')\n",
    "\n",
    "    fptr.close()\n"
   ]
  }
 ],
 "metadata": {
  "kernelspec": {
   "display_name": "Python 3",
   "language": "python",
   "name": "python3"
  },
  "language_info": {
   "codemirror_mode": {
    "name": "ipython",
    "version": 3
   },
   "file_extension": ".py",
   "mimetype": "text/x-python",
   "name": "python",
   "nbconvert_exporter": "python",
   "pygments_lexer": "ipython3",
   "version": "3.7.1"
  }
 },
 "nbformat": 4,
 "nbformat_minor": 2
}
